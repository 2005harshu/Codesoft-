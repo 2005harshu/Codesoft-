{
 "cells": [
  {
   "cell_type": "markdown",
   "id": "6b1bad53-3319-4e8c-94be-cc81f5ef741d",
   "metadata": {},
   "source": [
    "# Sales Prediction using Multiple linear regression "
   ]
  },
  {
   "cell_type": "code",
   "execution_count": 2,
   "id": "57aef54c-05e6-4f38-8fd3-3190a90f6975",
   "metadata": {},
   "outputs": [],
   "source": [
    "# Importing python libraries\n",
    "import pandas as pd\n",
    "import numpy as np\n",
    "import matplotlib.pyplot as plt\n",
    "import seaborn as sns"
   ]
  },
  {
   "cell_type": "code",
   "execution_count": 3,
   "id": "0667c76b-be8c-49e4-8a9c-8d5fff98a219",
   "metadata": {},
   "outputs": [],
   "source": [
    "import warnings\n",
    "warnings.filterwarnings(\"ignore\")"
   ]
  },
  {
   "cell_type": "code",
   "execution_count": 4,
   "id": "b1e84ad3-bb05-49b1-ae5e-a3ac6de2cedc",
   "metadata": {},
   "outputs": [],
   "source": [
    "import statsmodels.api as sm\n",
    "import sklearn\n",
    "from sklearn.model_selection import train_test_split"
   ]
  },
  {
   "cell_type": "code",
   "execution_count": 5,
   "id": "98f5bfe3-b671-4510-8eda-11e79981a350",
   "metadata": {},
   "outputs": [],
   "source": [
    "from sklearn.metrics import mean_squared_error\n",
    "from sklearn.metrics import r2_score"
   ]
  },
  {
   "cell_type": "markdown",
   "id": "aea16d59-d396-4327-b851-e9a6ddededb0",
   "metadata": {},
   "source": [
    "### Reading the Data set "
   ]
  },
  {
   "cell_type": "code",
   "execution_count": 7,
   "id": "deb1fa75-7b14-4351-8cfb-e7197f6918ff",
   "metadata": {},
   "outputs": [],
   "source": [
    "advertising=pd.read_csv(\"advertising.csv\")"
   ]
  },
  {
   "cell_type": "markdown",
   "id": "a135e146-d8a8-4763-a5be-6361d1b7124f",
   "metadata": {},
   "source": [
    "### Inspecting the data "
   ]
  },
  {
   "cell_type": "code",
   "execution_count": 9,
   "id": "e1096266-ce64-49e9-8d1d-5f773344f653",
   "metadata": {},
   "outputs": [
    {
     "data": {
      "text/html": [
       "<div>\n",
       "<style scoped>\n",
       "    .dataframe tbody tr th:only-of-type {\n",
       "        vertical-align: middle;\n",
       "    }\n",
       "\n",
       "    .dataframe tbody tr th {\n",
       "        vertical-align: top;\n",
       "    }\n",
       "\n",
       "    .dataframe thead th {\n",
       "        text-align: right;\n",
       "    }\n",
       "</style>\n",
       "<table border=\"1\" class=\"dataframe\">\n",
       "  <thead>\n",
       "    <tr style=\"text-align: right;\">\n",
       "      <th></th>\n",
       "      <th>TV</th>\n",
       "      <th>Radio</th>\n",
       "      <th>Newspaper</th>\n",
       "      <th>Sales</th>\n",
       "    </tr>\n",
       "  </thead>\n",
       "  <tbody>\n",
       "    <tr>\n",
       "      <th>0</th>\n",
       "      <td>230.1</td>\n",
       "      <td>37.8</td>\n",
       "      <td>69.2</td>\n",
       "      <td>22.1</td>\n",
       "    </tr>\n",
       "    <tr>\n",
       "      <th>1</th>\n",
       "      <td>44.5</td>\n",
       "      <td>39.3</td>\n",
       "      <td>45.1</td>\n",
       "      <td>10.4</td>\n",
       "    </tr>\n",
       "    <tr>\n",
       "      <th>2</th>\n",
       "      <td>17.2</td>\n",
       "      <td>45.9</td>\n",
       "      <td>69.3</td>\n",
       "      <td>12.0</td>\n",
       "    </tr>\n",
       "    <tr>\n",
       "      <th>3</th>\n",
       "      <td>151.5</td>\n",
       "      <td>41.3</td>\n",
       "      <td>58.5</td>\n",
       "      <td>16.5</td>\n",
       "    </tr>\n",
       "    <tr>\n",
       "      <th>4</th>\n",
       "      <td>180.8</td>\n",
       "      <td>10.8</td>\n",
       "      <td>58.4</td>\n",
       "      <td>17.9</td>\n",
       "    </tr>\n",
       "    <tr>\n",
       "      <th>5</th>\n",
       "      <td>8.7</td>\n",
       "      <td>48.9</td>\n",
       "      <td>75.0</td>\n",
       "      <td>7.2</td>\n",
       "    </tr>\n",
       "    <tr>\n",
       "      <th>6</th>\n",
       "      <td>57.5</td>\n",
       "      <td>32.8</td>\n",
       "      <td>23.5</td>\n",
       "      <td>11.8</td>\n",
       "    </tr>\n",
       "    <tr>\n",
       "      <th>7</th>\n",
       "      <td>120.2</td>\n",
       "      <td>19.6</td>\n",
       "      <td>11.6</td>\n",
       "      <td>13.2</td>\n",
       "    </tr>\n",
       "    <tr>\n",
       "      <th>8</th>\n",
       "      <td>8.6</td>\n",
       "      <td>2.1</td>\n",
       "      <td>1.0</td>\n",
       "      <td>4.8</td>\n",
       "    </tr>\n",
       "    <tr>\n",
       "      <th>9</th>\n",
       "      <td>199.8</td>\n",
       "      <td>2.6</td>\n",
       "      <td>21.2</td>\n",
       "      <td>15.6</td>\n",
       "    </tr>\n",
       "  </tbody>\n",
       "</table>\n",
       "</div>"
      ],
      "text/plain": [
       "      TV  Radio  Newspaper  Sales\n",
       "0  230.1   37.8       69.2   22.1\n",
       "1   44.5   39.3       45.1   10.4\n",
       "2   17.2   45.9       69.3   12.0\n",
       "3  151.5   41.3       58.5   16.5\n",
       "4  180.8   10.8       58.4   17.9\n",
       "5    8.7   48.9       75.0    7.2\n",
       "6   57.5   32.8       23.5   11.8\n",
       "7  120.2   19.6       11.6   13.2\n",
       "8    8.6    2.1        1.0    4.8\n",
       "9  199.8    2.6       21.2   15.6"
      ]
     },
     "execution_count": 9,
     "metadata": {},
     "output_type": "execute_result"
    }
   ],
   "source": [
    "advertising.head(10)"
   ]
  },
  {
   "cell_type": "code",
   "execution_count": null,
   "id": "862173a6-9a6a-4e59-90b1-f338f688a345",
   "metadata": {},
   "outputs": [],
   "source": []
  },
  {
   "cell_type": "code",
   "execution_count": 10,
   "id": "ecb430d5-b3fa-4160-9bf8-d4295417a5a3",
   "metadata": {},
   "outputs": [
    {
     "data": {
      "text/html": [
       "<div>\n",
       "<style scoped>\n",
       "    .dataframe tbody tr th:only-of-type {\n",
       "        vertical-align: middle;\n",
       "    }\n",
       "\n",
       "    .dataframe tbody tr th {\n",
       "        vertical-align: top;\n",
       "    }\n",
       "\n",
       "    .dataframe thead th {\n",
       "        text-align: right;\n",
       "    }\n",
       "</style>\n",
       "<table border=\"1\" class=\"dataframe\">\n",
       "  <thead>\n",
       "    <tr style=\"text-align: right;\">\n",
       "      <th></th>\n",
       "      <th>TV</th>\n",
       "      <th>Radio</th>\n",
       "      <th>Newspaper</th>\n",
       "      <th>Sales</th>\n",
       "    </tr>\n",
       "  </thead>\n",
       "  <tbody>\n",
       "    <tr>\n",
       "      <th>195</th>\n",
       "      <td>38.2</td>\n",
       "      <td>3.7</td>\n",
       "      <td>13.8</td>\n",
       "      <td>7.6</td>\n",
       "    </tr>\n",
       "    <tr>\n",
       "      <th>196</th>\n",
       "      <td>94.2</td>\n",
       "      <td>4.9</td>\n",
       "      <td>8.1</td>\n",
       "      <td>14.0</td>\n",
       "    </tr>\n",
       "    <tr>\n",
       "      <th>197</th>\n",
       "      <td>177.0</td>\n",
       "      <td>9.3</td>\n",
       "      <td>6.4</td>\n",
       "      <td>14.8</td>\n",
       "    </tr>\n",
       "    <tr>\n",
       "      <th>198</th>\n",
       "      <td>283.6</td>\n",
       "      <td>42.0</td>\n",
       "      <td>66.2</td>\n",
       "      <td>25.5</td>\n",
       "    </tr>\n",
       "    <tr>\n",
       "      <th>199</th>\n",
       "      <td>232.1</td>\n",
       "      <td>8.6</td>\n",
       "      <td>8.7</td>\n",
       "      <td>18.4</td>\n",
       "    </tr>\n",
       "  </tbody>\n",
       "</table>\n",
       "</div>"
      ],
      "text/plain": [
       "        TV  Radio  Newspaper  Sales\n",
       "195   38.2    3.7       13.8    7.6\n",
       "196   94.2    4.9        8.1   14.0\n",
       "197  177.0    9.3        6.4   14.8\n",
       "198  283.6   42.0       66.2   25.5\n",
       "199  232.1    8.6        8.7   18.4"
      ]
     },
     "execution_count": 10,
     "metadata": {},
     "output_type": "execute_result"
    }
   ],
   "source": [
    "advertising.tail(5)"
   ]
  },
  {
   "cell_type": "code",
   "execution_count": 11,
   "id": "e7e3ba6d-28ec-45b7-8d2b-61b9ebb5d000",
   "metadata": {},
   "outputs": [
    {
     "data": {
      "text/plain": [
       "(200, 4)"
      ]
     },
     "execution_count": 11,
     "metadata": {},
     "output_type": "execute_result"
    }
   ],
   "source": [
    "advertising.shape"
   ]
  },
  {
   "cell_type": "code",
   "execution_count": 12,
   "id": "c1b2a695-67f7-4d4d-a6a4-43ae5011010d",
   "metadata": {},
   "outputs": [
    {
     "data": {
      "text/plain": [
       "800"
      ]
     },
     "execution_count": 12,
     "metadata": {},
     "output_type": "execute_result"
    }
   ],
   "source": [
    "advertising.size"
   ]
  },
  {
   "cell_type": "code",
   "execution_count": 13,
   "id": "af6f5922-24c7-4fe0-9f73-31409ad484dc",
   "metadata": {},
   "outputs": [
    {
     "name": "stdout",
     "output_type": "stream",
     "text": [
      "<class 'pandas.core.frame.DataFrame'>\n",
      "RangeIndex: 200 entries, 0 to 199\n",
      "Data columns (total 4 columns):\n",
      " #   Column     Non-Null Count  Dtype  \n",
      "---  ------     --------------  -----  \n",
      " 0   TV         200 non-null    float64\n",
      " 1   Radio      200 non-null    float64\n",
      " 2   Newspaper  200 non-null    float64\n",
      " 3   Sales      200 non-null    float64\n",
      "dtypes: float64(4)\n",
      "memory usage: 6.4 KB\n"
     ]
    }
   ],
   "source": [
    "advertising.info()"
   ]
  },
  {
   "cell_type": "code",
   "execution_count": 14,
   "id": "3bc59067-54bf-4083-a010-3d40d5a20533",
   "metadata": {},
   "outputs": [
    {
     "data": {
      "text/plain": [
       "TV           0\n",
       "Radio        0\n",
       "Newspaper    0\n",
       "Sales        0\n",
       "dtype: int64"
      ]
     },
     "execution_count": 14,
     "metadata": {},
     "output_type": "execute_result"
    }
   ],
   "source": [
    "advertising.isnull().sum()"
   ]
  },
  {
   "cell_type": "markdown",
   "id": "680e705e-6cff-46e5-9be4-2f6ac80d4d5c",
   "metadata": {},
   "source": [
    "**There are no null values in the dataset.**"
   ]
  },
  {
   "cell_type": "code",
   "execution_count": 16,
   "id": "859f7670-e886-4b5e-82b2-3bd79f9e7708",
   "metadata": {},
   "outputs": [
    {
     "data": {
      "text/html": [
       "<div>\n",
       "<style scoped>\n",
       "    .dataframe tbody tr th:only-of-type {\n",
       "        vertical-align: middle;\n",
       "    }\n",
       "\n",
       "    .dataframe tbody tr th {\n",
       "        vertical-align: top;\n",
       "    }\n",
       "\n",
       "    .dataframe thead th {\n",
       "        text-align: right;\n",
       "    }\n",
       "</style>\n",
       "<table border=\"1\" class=\"dataframe\">\n",
       "  <thead>\n",
       "    <tr style=\"text-align: right;\">\n",
       "      <th></th>\n",
       "      <th>TV</th>\n",
       "      <th>Radio</th>\n",
       "      <th>Newspaper</th>\n",
       "      <th>Sales</th>\n",
       "    </tr>\n",
       "  </thead>\n",
       "  <tbody>\n",
       "    <tr>\n",
       "      <th>count</th>\n",
       "      <td>200.000000</td>\n",
       "      <td>200.000000</td>\n",
       "      <td>200.000000</td>\n",
       "      <td>200.000000</td>\n",
       "    </tr>\n",
       "    <tr>\n",
       "      <th>mean</th>\n",
       "      <td>147.042500</td>\n",
       "      <td>23.264000</td>\n",
       "      <td>30.554000</td>\n",
       "      <td>15.130500</td>\n",
       "    </tr>\n",
       "    <tr>\n",
       "      <th>std</th>\n",
       "      <td>85.854236</td>\n",
       "      <td>14.846809</td>\n",
       "      <td>21.778621</td>\n",
       "      <td>5.283892</td>\n",
       "    </tr>\n",
       "    <tr>\n",
       "      <th>min</th>\n",
       "      <td>0.700000</td>\n",
       "      <td>0.000000</td>\n",
       "      <td>0.300000</td>\n",
       "      <td>1.600000</td>\n",
       "    </tr>\n",
       "    <tr>\n",
       "      <th>25%</th>\n",
       "      <td>74.375000</td>\n",
       "      <td>9.975000</td>\n",
       "      <td>12.750000</td>\n",
       "      <td>11.000000</td>\n",
       "    </tr>\n",
       "    <tr>\n",
       "      <th>50%</th>\n",
       "      <td>149.750000</td>\n",
       "      <td>22.900000</td>\n",
       "      <td>25.750000</td>\n",
       "      <td>16.000000</td>\n",
       "    </tr>\n",
       "    <tr>\n",
       "      <th>75%</th>\n",
       "      <td>218.825000</td>\n",
       "      <td>36.525000</td>\n",
       "      <td>45.100000</td>\n",
       "      <td>19.050000</td>\n",
       "    </tr>\n",
       "    <tr>\n",
       "      <th>max</th>\n",
       "      <td>296.400000</td>\n",
       "      <td>49.600000</td>\n",
       "      <td>114.000000</td>\n",
       "      <td>27.000000</td>\n",
       "    </tr>\n",
       "  </tbody>\n",
       "</table>\n",
       "</div>"
      ],
      "text/plain": [
       "               TV       Radio   Newspaper       Sales\n",
       "count  200.000000  200.000000  200.000000  200.000000\n",
       "mean   147.042500   23.264000   30.554000   15.130500\n",
       "std     85.854236   14.846809   21.778621    5.283892\n",
       "min      0.700000    0.000000    0.300000    1.600000\n",
       "25%     74.375000    9.975000   12.750000   11.000000\n",
       "50%    149.750000   22.900000   25.750000   16.000000\n",
       "75%    218.825000   36.525000   45.100000   19.050000\n",
       "max    296.400000   49.600000  114.000000   27.000000"
      ]
     },
     "execution_count": 16,
     "metadata": {},
     "output_type": "execute_result"
    }
   ],
   "source": [
    "advertising.describe()"
   ]
  },
  {
   "cell_type": "markdown",
   "id": "6a035a8e-2354-48ef-9425-71463c22e999",
   "metadata": {},
   "source": [
    "### Checking for Linearity wrt each column"
   ]
  },
  {
   "cell_type": "markdown",
   "id": "3820d7d2-261c-4fc2-b445-cc7eb323233c",
   "metadata": {},
   "source": [
    "**1.By Plotting scatter pair plot.**"
   ]
  },
  {
   "cell_type": "code",
   "execution_count": 19,
   "id": "042162f7-6892-4288-9a03-0e72670e8b9d",
   "metadata": {},
   "outputs": [
    {
     "data": {
      "image/png": "[encoded data removed]",
      "text/plain": [
       "<Figure size 750x250 with 3 Axes>"
      ]
     },
     "metadata": {},
     "output_type": "display_data"
    }
   ],
   "source": [
    "sns.pairplot(diag_kind=None, data= advertising, x_vars=[\"TV\",\"Radio\",\"Newspaper\"], y_vars=\"Sales\")\n",
    "plt.show()"
   ]
  },
  {
   "cell_type": "markdown",
   "id": "4d4e32c1-d7a2-415e-a1eb-3374ee7cd854",
   "metadata": {},
   "source": [
    "**2. By heatmap.**"
   ]
  },
  {
   "cell_type": "code",
   "execution_count": 21,
   "id": "c057cd3d-28aa-4287-a265-4d8afe599e0e",
   "metadata": {},
   "outputs": [
    {
     "data": {
      "image/png": "[encoded data removed]",
      "text/plain": [
       "<Figure size 640x480 with 2 Axes>"
      ]
     },
     "metadata": {},
     "output_type": "display_data"
    }
   ],
   "source": [
    "sns.heatmap(advertising.corr(), cmap=\"Greens\",annot=True)\n",
    "plt.show()"
   ]
  },
  {
   "cell_type": "markdown",
   "id": "0b386b31-e033-477d-b1b9-bd4ed61a6047",
   "metadata": {},
   "source": [
    "### Assign to Train and Test "
   ]
  },
  {
   "cell_type": "code",
   "execution_count": 23,
   "id": "78369737-401a-45bb-8283-d8390593cced",
   "metadata": {},
   "outputs": [],
   "source": [
    "X=advertising[[\"TV\",\"Radio\",\"Newspaper\"]]\n",
    "y=advertising[\"Sales\"]"
   ]
  },
  {
   "cell_type": "code",
   "execution_count": 24,
   "id": "c30aa3d7-5ba9-48db-afec-f4549f8076b5",
   "metadata": {},
   "outputs": [
    {
     "data": {
      "text/html": [
       "<div>\n",
       "<style scoped>\n",
       "    .dataframe tbody tr th:only-of-type {\n",
       "        vertical-align: middle;\n",
       "    }\n",
       "\n",
       "    .dataframe tbody tr th {\n",
       "        vertical-align: top;\n",
       "    }\n",
       "\n",
       "    .dataframe thead th {\n",
       "        text-align: right;\n",
       "    }\n",
       "</style>\n",
       "<table border=\"1\" class=\"dataframe\">\n",
       "  <thead>\n",
       "    <tr style=\"text-align: right;\">\n",
       "      <th></th>\n",
       "      <th>TV</th>\n",
       "      <th>Radio</th>\n",
       "      <th>Newspaper</th>\n",
       "    </tr>\n",
       "  </thead>\n",
       "  <tbody>\n",
       "    <tr>\n",
       "      <th>0</th>\n",
       "      <td>230.1</td>\n",
       "      <td>37.8</td>\n",
       "      <td>69.2</td>\n",
       "    </tr>\n",
       "    <tr>\n",
       "      <th>1</th>\n",
       "      <td>44.5</td>\n",
       "      <td>39.3</td>\n",
       "      <td>45.1</td>\n",
       "    </tr>\n",
       "    <tr>\n",
       "      <th>2</th>\n",
       "      <td>17.2</td>\n",
       "      <td>45.9</td>\n",
       "      <td>69.3</td>\n",
       "    </tr>\n",
       "    <tr>\n",
       "      <th>3</th>\n",
       "      <td>151.5</td>\n",
       "      <td>41.3</td>\n",
       "      <td>58.5</td>\n",
       "    </tr>\n",
       "    <tr>\n",
       "      <th>4</th>\n",
       "      <td>180.8</td>\n",
       "      <td>10.8</td>\n",
       "      <td>58.4</td>\n",
       "    </tr>\n",
       "  </tbody>\n",
       "</table>\n",
       "</div>"
      ],
      "text/plain": [
       "      TV  Radio  Newspaper\n",
       "0  230.1   37.8       69.2\n",
       "1   44.5   39.3       45.1\n",
       "2   17.2   45.9       69.3\n",
       "3  151.5   41.3       58.5\n",
       "4  180.8   10.8       58.4"
      ]
     },
     "execution_count": 24,
     "metadata": {},
     "output_type": "execute_result"
    }
   ],
   "source": [
    "X.head()"
   ]
  },
  {
   "cell_type": "code",
   "execution_count": 25,
   "id": "3c759234-eed3-4c26-a431-b08cb0c68ba4",
   "metadata": {},
   "outputs": [
    {
     "data": {
      "text/plain": [
       "0    22.1\n",
       "1    10.4\n",
       "2    12.0\n",
       "3    16.5\n",
       "4    17.9\n",
       "Name: Sales, dtype: float64"
      ]
     },
     "execution_count": 25,
     "metadata": {},
     "output_type": "execute_result"
    }
   ],
   "source": [
    "y.head()"
   ]
  },
  {
   "cell_type": "markdown",
   "id": "8934d7a4-32d5-411a-9c68-94b0ae0af866",
   "metadata": {},
   "source": [
    "**Dividing the data into train and test.**"
   ]
  },
  {
   "cell_type": "code",
   "execution_count": 27,
   "id": "07bbf690-a91a-412d-89c4-b7591736d684",
   "metadata": {},
   "outputs": [],
   "source": [
    "X_train,X_test,y_train,y_test=train_test_split(X,y, train_size=0.7, random_state=100)"
   ]
  },
  {
   "cell_type": "code",
   "execution_count": 28,
   "id": "4b72f9b7-8668-42cd-afea-a1b093cda55a",
   "metadata": {},
   "outputs": [
    {
     "name": "stdout",
     "output_type": "stream",
     "text": [
      "(140, 3)\n",
      "(60, 3)\n",
      "(140,)\n",
      "(60,)\n"
     ]
    }
   ],
   "source": [
    "print(X_train.shape)\n",
    "print(X_test.shape)\n",
    "print(y_train.shape)\n",
    "print(y_test.shape)"
   ]
  },
  {
   "cell_type": "markdown",
   "id": "58a5e11f-bb84-48aa-b54a-1b3e5e959e04",
   "metadata": {},
   "source": [
    "**Adding Constants**"
   ]
  },
  {
   "cell_type": "code",
   "execution_count": 30,
   "id": "03f5e864-1593-4e6a-adb5-e08bee94bfda",
   "metadata": {},
   "outputs": [],
   "source": [
    "X_train_sm=sm.add_constant(X_train)"
   ]
  },
  {
   "cell_type": "code",
   "execution_count": 31,
   "id": "e8c715ea-7be9-4e2b-a38a-d70bd6643b28",
   "metadata": {},
   "outputs": [
    {
     "data": {
      "text/html": [
       "<div>\n",
       "<style scoped>\n",
       "    .dataframe tbody tr th:only-of-type {\n",
       "        vertical-align: middle;\n",
       "    }\n",
       "\n",
       "    .dataframe tbody tr th {\n",
       "        vertical-align: top;\n",
       "    }\n",
       "\n",
       "    .dataframe thead th {\n",
       "        text-align: right;\n",
       "    }\n",
       "</style>\n",
       "<table border=\"1\" class=\"dataframe\">\n",
       "  <thead>\n",
       "    <tr style=\"text-align: right;\">\n",
       "      <th></th>\n",
       "      <th>const</th>\n",
       "      <th>TV</th>\n",
       "      <th>Radio</th>\n",
       "      <th>Newspaper</th>\n",
       "    </tr>\n",
       "  </thead>\n",
       "  <tbody>\n",
       "    <tr>\n",
       "      <th>74</th>\n",
       "      <td>1.0</td>\n",
       "      <td>213.4</td>\n",
       "      <td>24.6</td>\n",
       "      <td>13.1</td>\n",
       "    </tr>\n",
       "    <tr>\n",
       "      <th>3</th>\n",
       "      <td>1.0</td>\n",
       "      <td>151.5</td>\n",
       "      <td>41.3</td>\n",
       "      <td>58.5</td>\n",
       "    </tr>\n",
       "    <tr>\n",
       "      <th>185</th>\n",
       "      <td>1.0</td>\n",
       "      <td>205.0</td>\n",
       "      <td>45.1</td>\n",
       "      <td>19.6</td>\n",
       "    </tr>\n",
       "    <tr>\n",
       "      <th>26</th>\n",
       "      <td>1.0</td>\n",
       "      <td>142.9</td>\n",
       "      <td>29.3</td>\n",
       "      <td>12.6</td>\n",
       "    </tr>\n",
       "    <tr>\n",
       "      <th>90</th>\n",
       "      <td>1.0</td>\n",
       "      <td>134.3</td>\n",
       "      <td>4.9</td>\n",
       "      <td>9.3</td>\n",
       "    </tr>\n",
       "    <tr>\n",
       "      <th>...</th>\n",
       "      <td>...</td>\n",
       "      <td>...</td>\n",
       "      <td>...</td>\n",
       "      <td>...</td>\n",
       "    </tr>\n",
       "    <tr>\n",
       "      <th>87</th>\n",
       "      <td>1.0</td>\n",
       "      <td>110.7</td>\n",
       "      <td>40.6</td>\n",
       "      <td>63.2</td>\n",
       "    </tr>\n",
       "    <tr>\n",
       "      <th>103</th>\n",
       "      <td>1.0</td>\n",
       "      <td>187.9</td>\n",
       "      <td>17.2</td>\n",
       "      <td>17.9</td>\n",
       "    </tr>\n",
       "    <tr>\n",
       "      <th>67</th>\n",
       "      <td>1.0</td>\n",
       "      <td>139.3</td>\n",
       "      <td>14.5</td>\n",
       "      <td>10.2</td>\n",
       "    </tr>\n",
       "    <tr>\n",
       "      <th>24</th>\n",
       "      <td>1.0</td>\n",
       "      <td>62.3</td>\n",
       "      <td>12.6</td>\n",
       "      <td>18.3</td>\n",
       "    </tr>\n",
       "    <tr>\n",
       "      <th>8</th>\n",
       "      <td>1.0</td>\n",
       "      <td>8.6</td>\n",
       "      <td>2.1</td>\n",
       "      <td>1.0</td>\n",
       "    </tr>\n",
       "  </tbody>\n",
       "</table>\n",
       "<p>140 rows × 4 columns</p>\n",
       "</div>"
      ],
      "text/plain": [
       "     const     TV  Radio  Newspaper\n",
       "74     1.0  213.4   24.6       13.1\n",
       "3      1.0  151.5   41.3       58.5\n",
       "185    1.0  205.0   45.1       19.6\n",
       "26     1.0  142.9   29.3       12.6\n",
       "90     1.0  134.3    4.9        9.3\n",
       "..     ...    ...    ...        ...\n",
       "87     1.0  110.7   40.6       63.2\n",
       "103    1.0  187.9   17.2       17.9\n",
       "67     1.0  139.3   14.5       10.2\n",
       "24     1.0   62.3   12.6       18.3\n",
       "8      1.0    8.6    2.1        1.0\n",
       "\n",
       "[140 rows x 4 columns]"
      ]
     },
     "execution_count": 31,
     "metadata": {},
     "output_type": "execute_result"
    }
   ],
   "source": [
    "X_train_sm"
   ]
  },
  {
   "cell_type": "markdown",
   "id": "2a77b9e2-8f71-462a-966f-86367483db02",
   "metadata": {},
   "source": [
    "**Ordinary Least square(OLS)**"
   ]
  },
  {
   "cell_type": "code",
   "execution_count": 33,
   "id": "a2e1acaa-32bf-49d6-b47c-3e205c291bc5",
   "metadata": {},
   "outputs": [],
   "source": [
    "lr=sm.OLS(y_train,X_train_sm).fit()"
   ]
  },
  {
   "cell_type": "code",
   "execution_count": 34,
   "id": "849efb6f-5215-4cfa-9bcf-b4125f1d89fb",
   "metadata": {},
   "outputs": [
    {
     "data": {
      "text/plain": [
       "const        4.334596\n",
       "TV           0.053829\n",
       "Radio        0.110012\n",
       "Newspaper    0.006290\n",
       "dtype: float64"
      ]
     },
     "execution_count": 34,
     "metadata": {},
     "output_type": "execute_result"
    }
   ],
   "source": [
    "lr.params"
   ]
  },
  {
   "cell_type": "code",
   "execution_count": 35,
   "id": "a4b7beb2-0304-4ce8-aff5-7201649a73a4",
   "metadata": {},
   "outputs": [
    {
     "data": {
      "text/html": [
       "<table class=\"simpletable\">\n",
       "<caption>OLS Regression Results</caption>\n",
       "<tr>\n",
       "  <th>Dep. Variable:</th>          <td>Sales</td>      <th>  R-squared:         </th> <td>   0.910</td>\n",
       "</tr>\n",
       "<tr>\n",
       "  <th>Model:</th>                   <td>OLS</td>       <th>  Adj. R-squared:    </th> <td>   0.909</td>\n",
       "</tr>\n",
       "<tr>\n",
       "  <th>Method:</th>             <td>Least Squares</td>  <th>  F-statistic:       </th> <td>   461.2</td>\n",
       "</tr>\n",
       "<tr>\n",
       "  <th>Date:</th>             <td>Thu, 25 Jul 2024</td> <th>  Prob (F-statistic):</th> <td>4.73e-71</td>\n",
       "</tr>\n",
       "<tr>\n",
       "  <th>Time:</th>                 <td>08:38:36</td>     <th>  Log-Likelihood:    </th> <td> -270.60</td>\n",
       "</tr>\n",
       "<tr>\n",
       "  <th>No. Observations:</th>      <td>   140</td>      <th>  AIC:               </th> <td>   549.2</td>\n",
       "</tr>\n",
       "<tr>\n",
       "  <th>Df Residuals:</th>          <td>   136</td>      <th>  BIC:               </th> <td>   561.0</td>\n",
       "</tr>\n",
       "<tr>\n",
       "  <th>Df Model:</th>              <td>     3</td>      <th>                     </th>     <td> </td>   \n",
       "</tr>\n",
       "<tr>\n",
       "  <th>Covariance Type:</th>      <td>nonrobust</td>    <th>                     </th>     <td> </td>   \n",
       "</tr>\n",
       "</table>\n",
       "<table class=\"simpletable\">\n",
       "<tr>\n",
       "      <td></td>         <th>coef</th>     <th>std err</th>      <th>t</th>      <th>P>|t|</th>  <th>[0.025</th>    <th>0.975]</th>  \n",
       "</tr>\n",
       "<tr>\n",
       "  <th>const</th>     <td>    4.3346</td> <td>    0.357</td> <td>   12.139</td> <td> 0.000</td> <td>    3.628</td> <td>    5.041</td>\n",
       "</tr>\n",
       "<tr>\n",
       "  <th>TV</th>        <td>    0.0538</td> <td>    0.002</td> <td>   34.539</td> <td> 0.000</td> <td>    0.051</td> <td>    0.057</td>\n",
       "</tr>\n",
       "<tr>\n",
       "  <th>Radio</th>     <td>    0.1100</td> <td>    0.010</td> <td>   10.609</td> <td> 0.000</td> <td>    0.090</td> <td>    0.131</td>\n",
       "</tr>\n",
       "<tr>\n",
       "  <th>Newspaper</th> <td>    0.0063</td> <td>    0.007</td> <td>    0.902</td> <td> 0.369</td> <td>   -0.008</td> <td>    0.020</td>\n",
       "</tr>\n",
       "</table>\n",
       "<table class=\"simpletable\">\n",
       "<tr>\n",
       "  <th>Omnibus:</th>       <td>18.669</td> <th>  Durbin-Watson:     </th> <td>   2.069</td>\n",
       "</tr>\n",
       "<tr>\n",
       "  <th>Prob(Omnibus):</th> <td> 0.000</td> <th>  Jarque-Bera (JB):  </th> <td>  31.404</td>\n",
       "</tr>\n",
       "<tr>\n",
       "  <th>Skew:</th>          <td>-0.643</td> <th>  Prob(JB):          </th> <td>1.52e-07</td>\n",
       "</tr>\n",
       "<tr>\n",
       "  <th>Kurtosis:</th>      <td> 4.932</td> <th>  Cond. No.          </th> <td>    443.</td>\n",
       "</tr>\n",
       "</table><br/><br/>Notes:<br/>[1] Standard Errors assume that the covariance matrix of the errors is correctly specified."
      ],
      "text/latex": [
       "\\begin{center}\n",
       "\\begin{tabular}{lclc}\n",
       "\\toprule\n",
       "\\textbf{Dep. Variable:}    &      Sales       & \\textbf{  R-squared:         } &     0.910   \\\\\n",
       "\\textbf{Model:}            &       OLS        & \\textbf{  Adj. R-squared:    } &     0.909   \\\\\n",
       "\\textbf{Method:}           &  Least Squares   & \\textbf{  F-statistic:       } &     461.2   \\\\\n",
       "\\textbf{Date:}             & Thu, 25 Jul 2024 & \\textbf{  Prob (F-statistic):} &  4.73e-71   \\\\\n",
       "\\textbf{Time:}             &     08:38:36     & \\textbf{  Log-Likelihood:    } &   -270.60   \\\\\n",
       "\\textbf{No. Observations:} &         140      & \\textbf{  AIC:               } &     549.2   \\\\\n",
       "\\textbf{Df Residuals:}     &         136      & \\textbf{  BIC:               } &     561.0   \\\\\n",
       "\\textbf{Df Model:}         &           3      & \\textbf{                     } &             \\\\\n",
       "\\textbf{Covariance Type:}  &    nonrobust     & \\textbf{                     } &             \\\\\n",
       "\\bottomrule\n",
       "\\end{tabular}\n",
       "\\begin{tabular}{lcccccc}\n",
       "                   & \\textbf{coef} & \\textbf{std err} & \\textbf{t} & \\textbf{P$> |$t$|$} & \\textbf{[0.025} & \\textbf{0.975]}  \\\\\n",
       "\\midrule\n",
       "\\textbf{const}     &       4.3346  &        0.357     &    12.139  &         0.000        &        3.628    &        5.041     \\\\\n",
       "\\textbf{TV}        &       0.0538  &        0.002     &    34.539  &         0.000        &        0.051    &        0.057     \\\\\n",
       "\\textbf{Radio}     &       0.1100  &        0.010     &    10.609  &         0.000        &        0.090    &        0.131     \\\\\n",
       "\\textbf{Newspaper} &       0.0063  &        0.007     &     0.902  &         0.369        &       -0.008    &        0.020     \\\\\n",
       "\\bottomrule\n",
       "\\end{tabular}\n",
       "\\begin{tabular}{lclc}\n",
       "\\textbf{Omnibus:}       & 18.669 & \\textbf{  Durbin-Watson:     } &    2.069  \\\\\n",
       "\\textbf{Prob(Omnibus):} &  0.000 & \\textbf{  Jarque-Bera (JB):  } &   31.404  \\\\\n",
       "\\textbf{Skew:}          & -0.643 & \\textbf{  Prob(JB):          } & 1.52e-07  \\\\\n",
       "\\textbf{Kurtosis:}      &  4.932 & \\textbf{  Cond. No.          } &     443.  \\\\\n",
       "\\bottomrule\n",
       "\\end{tabular}\n",
       "%\\caption{OLS Regression Results}\n",
       "\\end{center}\n",
       "\n",
       "Notes: \\newline\n",
       " [1] Standard Errors assume that the covariance matrix of the errors is correctly specified."
      ],
      "text/plain": [
       "<class 'statsmodels.iolib.summary.Summary'>\n",
       "\"\"\"\n",
       "                            OLS Regression Results                            \n",
       "==============================================================================\n",
       "Dep. Variable:                  Sales   R-squared:                       0.910\n",
       "Model:                            OLS   Adj. R-squared:                  0.909\n",
       "Method:                 Least Squares   F-statistic:                     461.2\n",
       "Date:                Thu, 25 Jul 2024   Prob (F-statistic):           4.73e-71\n",
       "Time:                        08:38:36   Log-Likelihood:                -270.60\n",
       "No. Observations:                 140   AIC:                             549.2\n",
       "Df Residuals:                     136   BIC:                             561.0\n",
       "Df Model:                           3                                         \n",
       "Covariance Type:            nonrobust                                         \n",
       "==============================================================================\n",
       "                 coef    std err          t      P>|t|      [0.025      0.975]\n",
       "------------------------------------------------------------------------------\n",
       "const          4.3346      0.357     12.139      0.000       3.628       5.041\n",
       "TV             0.0538      0.002     34.539      0.000       0.051       0.057\n",
       "Radio          0.1100      0.010     10.609      0.000       0.090       0.131\n",
       "Newspaper      0.0063      0.007      0.902      0.369      -0.008       0.020\n",
       "==============================================================================\n",
       "Omnibus:                       18.669   Durbin-Watson:                   2.069\n",
       "Prob(Omnibus):                  0.000   Jarque-Bera (JB):               31.404\n",
       "Skew:                          -0.643   Prob(JB):                     1.52e-07\n",
       "Kurtosis:                       4.932   Cond. No.                         443.\n",
       "==============================================================================\n",
       "\n",
       "Notes:\n",
       "[1] Standard Errors assume that the covariance matrix of the errors is correctly specified.\n",
       "\"\"\""
      ]
     },
     "execution_count": 35,
     "metadata": {},
     "output_type": "execute_result"
    }
   ],
   "source": [
    "lr.summary()"
   ]
  },
  {
   "cell_type": "markdown",
   "id": "4b7a406d-ab62-48b0-9414-7c96cd92bb59",
   "metadata": {},
   "source": [
    "**Finding y predicted**"
   ]
  },
  {
   "cell_type": "code",
   "execution_count": 37,
   "id": "d46d683b-e188-44f9-8430-411f130df548",
   "metadata": {},
   "outputs": [],
   "source": [
    "#Alternate way\n",
    "#y_pred=( m1*x1 + m2*x2 + m3*x3 ) + c\n",
    "#y_pred = 0.054546 * (X_train[\"TV\"]) + 0.110012 * (X_train[\"Radio\"]) + 0.006290 * (X_train[\"Newspaper\"]) + 4.334596"
   ]
  },
  {
   "cell_type": "code",
   "execution_count": 38,
   "id": "ac85ced1-8d87-471f-886a-31f1b650de16",
   "metadata": {},
   "outputs": [],
   "source": [
    "y_pred=lr.predict(X_train_sm)"
   ]
  },
  {
   "cell_type": "code",
   "execution_count": 39,
   "id": "45784e05-a2d7-480e-843d-5d894fe3fa43",
   "metadata": {},
   "outputs": [
    {
     "data": {
      "text/plain": [
       "74     18.610427\n",
       "3      17.401174\n",
       "185    20.454398\n",
       "26     15.329388\n",
       "90     12.161402\n",
       "         ...    \n",
       "87     15.157500\n",
       "103    16.453886\n",
       "67     13.492326\n",
       "24      9.189410\n",
       "8       5.034842\n",
       "Length: 140, dtype: float64"
      ]
     },
     "execution_count": 39,
     "metadata": {},
     "output_type": "execute_result"
    }
   ],
   "source": [
    "y_pred"
   ]
  },
  {
   "cell_type": "code",
   "execution_count": 40,
   "id": "3381eb17-d7a9-47f3-970c-6bf918522a46",
   "metadata": {},
   "outputs": [
    {
     "data": {
      "image/png": "[encoded data removed]",
      "text/plain": [
       "<Figure size 640x480 with 1 Axes>"
      ]
     },
     "metadata": {},
     "output_type": "display_data"
    }
   ],
   "source": [
    "plt.scatter(((X_train[\"TV\"])+(X_train[\"Radio\"])+(X_train[\"Newspaper\"])),y_train,label=\"Actual\")\n",
    "plt.scatter(((X_train[\"TV\"])+(X_train[\"Radio\"])+(X_train[\"Newspaper\"])),y_pred,label=\"Predicted\")\n",
    "plt.suptitle(\"Comparision of Actual and Predicted Value\")\n",
    "plt.xlabel(\"Advertising dataset\")\n",
    "plt.show()"
   ]
  },
  {
   "cell_type": "markdown",
   "id": "81e44044-07bf-4a8e-82fb-0d49c3b80b5a",
   "metadata": {},
   "source": [
    "**Getting Errors**"
   ]
  },
  {
   "cell_type": "code",
   "execution_count": 42,
   "id": "d4f696aa-1d0c-4bb2-bc9f-e426c392d318",
   "metadata": {},
   "outputs": [
    {
     "data": {
      "text/plain": [
       "74    -1.610427\n",
       "3     -0.901174\n",
       "185    2.145602\n",
       "26    -0.329388\n",
       "90     1.838598\n",
       "         ...   \n",
       "87     0.842500\n",
       "103    3.246114\n",
       "67    -0.092326\n",
       "24     0.510590\n",
       "8     -0.234842\n",
       "Length: 140, dtype: float64"
      ]
     },
     "execution_count": 42,
     "metadata": {},
     "output_type": "execute_result"
    }
   ],
   "source": [
    "res=(y_train-y_pred)\n",
    "res"
   ]
  },
  {
   "cell_type": "code",
   "execution_count": 43,
   "id": "680038c0-8f3e-4333-bb92-cb66526e9fa2",
   "metadata": {},
   "outputs": [
    {
     "data": {
      "image/png": "[encoded data removed]",
      "text/plain": [
       "<Figure size 640x480 with 1 Axes>"
      ]
     },
     "metadata": {},
     "output_type": "display_data"
    }
   ],
   "source": [
    "sns.distplot(res, bins=10)\n",
    "plt.xlabel(\"Error Terms\")\n",
    "plt.show()"
   ]
  },
  {
   "cell_type": "markdown",
   "id": "a963ae68-5bb2-4c9b-99d3-a1068d891ddb",
   "metadata": {},
   "source": [
    "**For Test data**"
   ]
  },
  {
   "cell_type": "code",
   "execution_count": 45,
   "id": "48c4c839-a82f-4ae3-ac55-e0d8ee45f7e8",
   "metadata": {},
   "outputs": [],
   "source": [
    "X_test_sm = sm.add_constant(X_test)"
   ]
  },
  {
   "cell_type": "code",
   "execution_count": 46,
   "id": "d2072717-00f2-45a5-a952-385e30635c56",
   "metadata": {
    "scrolled": true
   },
   "outputs": [
    {
     "data": {
      "text/html": [
       "<div>\n",
       "<style scoped>\n",
       "    .dataframe tbody tr th:only-of-type {\n",
       "        vertical-align: middle;\n",
       "    }\n",
       "\n",
       "    .dataframe tbody tr th {\n",
       "        vertical-align: top;\n",
       "    }\n",
       "\n",
       "    .dataframe thead th {\n",
       "        text-align: right;\n",
       "    }\n",
       "</style>\n",
       "<table border=\"1\" class=\"dataframe\">\n",
       "  <thead>\n",
       "    <tr style=\"text-align: right;\">\n",
       "      <th></th>\n",
       "      <th>const</th>\n",
       "      <th>TV</th>\n",
       "      <th>Radio</th>\n",
       "      <th>Newspaper</th>\n",
       "    </tr>\n",
       "  </thead>\n",
       "  <tbody>\n",
       "    <tr>\n",
       "      <th>126</th>\n",
       "      <td>1.0</td>\n",
       "      <td>7.8</td>\n",
       "      <td>38.9</td>\n",
       "      <td>50.6</td>\n",
       "    </tr>\n",
       "    <tr>\n",
       "      <th>104</th>\n",
       "      <td>1.0</td>\n",
       "      <td>238.2</td>\n",
       "      <td>34.3</td>\n",
       "      <td>5.3</td>\n",
       "    </tr>\n",
       "    <tr>\n",
       "      <th>99</th>\n",
       "      <td>1.0</td>\n",
       "      <td>135.2</td>\n",
       "      <td>41.7</td>\n",
       "      <td>45.9</td>\n",
       "    </tr>\n",
       "    <tr>\n",
       "      <th>92</th>\n",
       "      <td>1.0</td>\n",
       "      <td>217.7</td>\n",
       "      <td>33.5</td>\n",
       "      <td>59.0</td>\n",
       "    </tr>\n",
       "    <tr>\n",
       "      <th>111</th>\n",
       "      <td>1.0</td>\n",
       "      <td>241.7</td>\n",
       "      <td>38.0</td>\n",
       "      <td>23.2</td>\n",
       "    </tr>\n",
       "    <tr>\n",
       "      <th>167</th>\n",
       "      <td>1.0</td>\n",
       "      <td>206.8</td>\n",
       "      <td>5.2</td>\n",
       "      <td>19.4</td>\n",
       "    </tr>\n",
       "    <tr>\n",
       "      <th>116</th>\n",
       "      <td>1.0</td>\n",
       "      <td>139.2</td>\n",
       "      <td>14.3</td>\n",
       "      <td>25.6</td>\n",
       "    </tr>\n",
       "    <tr>\n",
       "      <th>96</th>\n",
       "      <td>1.0</td>\n",
       "      <td>197.6</td>\n",
       "      <td>3.5</td>\n",
       "      <td>5.9</td>\n",
       "    </tr>\n",
       "    <tr>\n",
       "      <th>52</th>\n",
       "      <td>1.0</td>\n",
       "      <td>216.4</td>\n",
       "      <td>41.7</td>\n",
       "      <td>39.6</td>\n",
       "    </tr>\n",
       "    <tr>\n",
       "      <th>69</th>\n",
       "      <td>1.0</td>\n",
       "      <td>216.8</td>\n",
       "      <td>43.9</td>\n",
       "      <td>27.2</td>\n",
       "    </tr>\n",
       "    <tr>\n",
       "      <th>164</th>\n",
       "      <td>1.0</td>\n",
       "      <td>117.2</td>\n",
       "      <td>14.7</td>\n",
       "      <td>5.4</td>\n",
       "    </tr>\n",
       "    <tr>\n",
       "      <th>124</th>\n",
       "      <td>1.0</td>\n",
       "      <td>229.5</td>\n",
       "      <td>32.3</td>\n",
       "      <td>74.2</td>\n",
       "    </tr>\n",
       "    <tr>\n",
       "      <th>182</th>\n",
       "      <td>1.0</td>\n",
       "      <td>56.2</td>\n",
       "      <td>5.7</td>\n",
       "      <td>29.7</td>\n",
       "    </tr>\n",
       "    <tr>\n",
       "      <th>154</th>\n",
       "      <td>1.0</td>\n",
       "      <td>187.8</td>\n",
       "      <td>21.1</td>\n",
       "      <td>9.5</td>\n",
       "    </tr>\n",
       "    <tr>\n",
       "      <th>125</th>\n",
       "      <td>1.0</td>\n",
       "      <td>87.2</td>\n",
       "      <td>11.8</td>\n",
       "      <td>25.9</td>\n",
       "    </tr>\n",
       "    <tr>\n",
       "      <th>196</th>\n",
       "      <td>1.0</td>\n",
       "      <td>94.2</td>\n",
       "      <td>4.9</td>\n",
       "      <td>8.1</td>\n",
       "    </tr>\n",
       "    <tr>\n",
       "      <th>194</th>\n",
       "      <td>1.0</td>\n",
       "      <td>149.7</td>\n",
       "      <td>35.6</td>\n",
       "      <td>6.0</td>\n",
       "    </tr>\n",
       "    <tr>\n",
       "      <th>177</th>\n",
       "      <td>1.0</td>\n",
       "      <td>170.2</td>\n",
       "      <td>7.8</td>\n",
       "      <td>35.2</td>\n",
       "    </tr>\n",
       "    <tr>\n",
       "      <th>163</th>\n",
       "      <td>1.0</td>\n",
       "      <td>163.5</td>\n",
       "      <td>36.8</td>\n",
       "      <td>7.4</td>\n",
       "    </tr>\n",
       "    <tr>\n",
       "      <th>31</th>\n",
       "      <td>1.0</td>\n",
       "      <td>112.9</td>\n",
       "      <td>17.4</td>\n",
       "      <td>38.6</td>\n",
       "    </tr>\n",
       "    <tr>\n",
       "      <th>11</th>\n",
       "      <td>1.0</td>\n",
       "      <td>214.7</td>\n",
       "      <td>24.0</td>\n",
       "      <td>4.0</td>\n",
       "    </tr>\n",
       "    <tr>\n",
       "      <th>73</th>\n",
       "      <td>1.0</td>\n",
       "      <td>129.4</td>\n",
       "      <td>5.7</td>\n",
       "      <td>31.3</td>\n",
       "    </tr>\n",
       "    <tr>\n",
       "      <th>15</th>\n",
       "      <td>1.0</td>\n",
       "      <td>195.4</td>\n",
       "      <td>47.7</td>\n",
       "      <td>52.9</td>\n",
       "    </tr>\n",
       "    <tr>\n",
       "      <th>41</th>\n",
       "      <td>1.0</td>\n",
       "      <td>177.0</td>\n",
       "      <td>33.4</td>\n",
       "      <td>38.7</td>\n",
       "    </tr>\n",
       "    <tr>\n",
       "      <th>97</th>\n",
       "      <td>1.0</td>\n",
       "      <td>184.9</td>\n",
       "      <td>21.0</td>\n",
       "      <td>22.0</td>\n",
       "    </tr>\n",
       "    <tr>\n",
       "      <th>128</th>\n",
       "      <td>1.0</td>\n",
       "      <td>220.3</td>\n",
       "      <td>49.0</td>\n",
       "      <td>3.2</td>\n",
       "    </tr>\n",
       "    <tr>\n",
       "      <th>133</th>\n",
       "      <td>1.0</td>\n",
       "      <td>219.8</td>\n",
       "      <td>33.5</td>\n",
       "      <td>45.1</td>\n",
       "    </tr>\n",
       "    <tr>\n",
       "      <th>82</th>\n",
       "      <td>1.0</td>\n",
       "      <td>75.3</td>\n",
       "      <td>20.3</td>\n",
       "      <td>32.5</td>\n",
       "    </tr>\n",
       "    <tr>\n",
       "      <th>139</th>\n",
       "      <td>1.0</td>\n",
       "      <td>184.9</td>\n",
       "      <td>43.9</td>\n",
       "      <td>1.7</td>\n",
       "    </tr>\n",
       "    <tr>\n",
       "      <th>123</th>\n",
       "      <td>1.0</td>\n",
       "      <td>123.1</td>\n",
       "      <td>34.6</td>\n",
       "      <td>12.4</td>\n",
       "    </tr>\n",
       "    <tr>\n",
       "      <th>83</th>\n",
       "      <td>1.0</td>\n",
       "      <td>68.4</td>\n",
       "      <td>44.5</td>\n",
       "      <td>35.6</td>\n",
       "    </tr>\n",
       "    <tr>\n",
       "      <th>65</th>\n",
       "      <td>1.0</td>\n",
       "      <td>69.0</td>\n",
       "      <td>9.3</td>\n",
       "      <td>0.9</td>\n",
       "    </tr>\n",
       "    <tr>\n",
       "      <th>151</th>\n",
       "      <td>1.0</td>\n",
       "      <td>121.0</td>\n",
       "      <td>8.4</td>\n",
       "      <td>48.7</td>\n",
       "    </tr>\n",
       "    <tr>\n",
       "      <th>162</th>\n",
       "      <td>1.0</td>\n",
       "      <td>188.4</td>\n",
       "      <td>18.1</td>\n",
       "      <td>25.6</td>\n",
       "    </tr>\n",
       "    <tr>\n",
       "      <th>170</th>\n",
       "      <td>1.0</td>\n",
       "      <td>50.0</td>\n",
       "      <td>11.6</td>\n",
       "      <td>18.4</td>\n",
       "    </tr>\n",
       "    <tr>\n",
       "      <th>77</th>\n",
       "      <td>1.0</td>\n",
       "      <td>120.5</td>\n",
       "      <td>28.5</td>\n",
       "      <td>14.2</td>\n",
       "    </tr>\n",
       "    <tr>\n",
       "      <th>32</th>\n",
       "      <td>1.0</td>\n",
       "      <td>97.2</td>\n",
       "      <td>1.5</td>\n",
       "      <td>30.0</td>\n",
       "    </tr>\n",
       "    <tr>\n",
       "      <th>173</th>\n",
       "      <td>1.0</td>\n",
       "      <td>168.4</td>\n",
       "      <td>7.1</td>\n",
       "      <td>12.8</td>\n",
       "    </tr>\n",
       "    <tr>\n",
       "      <th>174</th>\n",
       "      <td>1.0</td>\n",
       "      <td>222.4</td>\n",
       "      <td>3.4</td>\n",
       "      <td>13.1</td>\n",
       "    </tr>\n",
       "    <tr>\n",
       "      <th>85</th>\n",
       "      <td>1.0</td>\n",
       "      <td>193.2</td>\n",
       "      <td>18.4</td>\n",
       "      <td>65.7</td>\n",
       "    </tr>\n",
       "    <tr>\n",
       "      <th>168</th>\n",
       "      <td>1.0</td>\n",
       "      <td>215.4</td>\n",
       "      <td>23.6</td>\n",
       "      <td>57.6</td>\n",
       "    </tr>\n",
       "    <tr>\n",
       "      <th>112</th>\n",
       "      <td>1.0</td>\n",
       "      <td>175.7</td>\n",
       "      <td>15.4</td>\n",
       "      <td>2.4</td>\n",
       "    </tr>\n",
       "    <tr>\n",
       "      <th>171</th>\n",
       "      <td>1.0</td>\n",
       "      <td>164.5</td>\n",
       "      <td>20.9</td>\n",
       "      <td>47.4</td>\n",
       "    </tr>\n",
       "    <tr>\n",
       "      <th>181</th>\n",
       "      <td>1.0</td>\n",
       "      <td>218.5</td>\n",
       "      <td>5.4</td>\n",
       "      <td>27.4</td>\n",
       "    </tr>\n",
       "    <tr>\n",
       "      <th>7</th>\n",
       "      <td>1.0</td>\n",
       "      <td>120.2</td>\n",
       "      <td>19.6</td>\n",
       "      <td>11.6</td>\n",
       "    </tr>\n",
       "    <tr>\n",
       "      <th>46</th>\n",
       "      <td>1.0</td>\n",
       "      <td>89.7</td>\n",
       "      <td>9.9</td>\n",
       "      <td>35.7</td>\n",
       "    </tr>\n",
       "    <tr>\n",
       "      <th>75</th>\n",
       "      <td>1.0</td>\n",
       "      <td>16.9</td>\n",
       "      <td>43.7</td>\n",
       "      <td>89.4</td>\n",
       "    </tr>\n",
       "    <tr>\n",
       "      <th>28</th>\n",
       "      <td>1.0</td>\n",
       "      <td>248.8</td>\n",
       "      <td>27.1</td>\n",
       "      <td>22.9</td>\n",
       "    </tr>\n",
       "    <tr>\n",
       "      <th>29</th>\n",
       "      <td>1.0</td>\n",
       "      <td>70.6</td>\n",
       "      <td>16.0</td>\n",
       "      <td>40.8</td>\n",
       "    </tr>\n",
       "    <tr>\n",
       "      <th>195</th>\n",
       "      <td>1.0</td>\n",
       "      <td>38.2</td>\n",
       "      <td>3.7</td>\n",
       "      <td>13.8</td>\n",
       "    </tr>\n",
       "    <tr>\n",
       "      <th>40</th>\n",
       "      <td>1.0</td>\n",
       "      <td>202.5</td>\n",
       "      <td>22.3</td>\n",
       "      <td>31.6</td>\n",
       "    </tr>\n",
       "    <tr>\n",
       "      <th>153</th>\n",
       "      <td>1.0</td>\n",
       "      <td>171.3</td>\n",
       "      <td>39.7</td>\n",
       "      <td>37.7</td>\n",
       "    </tr>\n",
       "    <tr>\n",
       "      <th>115</th>\n",
       "      <td>1.0</td>\n",
       "      <td>75.1</td>\n",
       "      <td>35.0</td>\n",
       "      <td>52.7</td>\n",
       "    </tr>\n",
       "    <tr>\n",
       "      <th>64</th>\n",
       "      <td>1.0</td>\n",
       "      <td>131.1</td>\n",
       "      <td>42.8</td>\n",
       "      <td>28.9</td>\n",
       "    </tr>\n",
       "    <tr>\n",
       "      <th>59</th>\n",
       "      <td>1.0</td>\n",
       "      <td>210.7</td>\n",
       "      <td>29.5</td>\n",
       "      <td>9.3</td>\n",
       "    </tr>\n",
       "    <tr>\n",
       "      <th>1</th>\n",
       "      <td>1.0</td>\n",
       "      <td>44.5</td>\n",
       "      <td>39.3</td>\n",
       "      <td>45.1</td>\n",
       "    </tr>\n",
       "    <tr>\n",
       "      <th>192</th>\n",
       "      <td>1.0</td>\n",
       "      <td>17.2</td>\n",
       "      <td>4.1</td>\n",
       "      <td>31.6</td>\n",
       "    </tr>\n",
       "    <tr>\n",
       "      <th>136</th>\n",
       "      <td>1.0</td>\n",
       "      <td>25.6</td>\n",
       "      <td>39.0</td>\n",
       "      <td>9.3</td>\n",
       "    </tr>\n",
       "    <tr>\n",
       "      <th>152</th>\n",
       "      <td>1.0</td>\n",
       "      <td>197.6</td>\n",
       "      <td>23.3</td>\n",
       "      <td>14.2</td>\n",
       "    </tr>\n",
       "    <tr>\n",
       "      <th>161</th>\n",
       "      <td>1.0</td>\n",
       "      <td>85.7</td>\n",
       "      <td>35.8</td>\n",
       "      <td>49.3</td>\n",
       "    </tr>\n",
       "  </tbody>\n",
       "</table>\n",
       "</div>"
      ],
      "text/plain": [
       "     const     TV  Radio  Newspaper\n",
       "126    1.0    7.8   38.9       50.6\n",
       "104    1.0  238.2   34.3        5.3\n",
       "99     1.0  135.2   41.7       45.9\n",
       "92     1.0  217.7   33.5       59.0\n",
       "111    1.0  241.7   38.0       23.2\n",
       "167    1.0  206.8    5.2       19.4\n",
       "116    1.0  139.2   14.3       25.6\n",
       "96     1.0  197.6    3.5        5.9\n",
       "52     1.0  216.4   41.7       39.6\n",
       "69     1.0  216.8   43.9       27.2\n",
       "164    1.0  117.2   14.7        5.4\n",
       "124    1.0  229.5   32.3       74.2\n",
       "182    1.0   56.2    5.7       29.7\n",
       "154    1.0  187.8   21.1        9.5\n",
       "125    1.0   87.2   11.8       25.9\n",
       "196    1.0   94.2    4.9        8.1\n",
       "194    1.0  149.7   35.6        6.0\n",
       "177    1.0  170.2    7.8       35.2\n",
       "163    1.0  163.5   36.8        7.4\n",
       "31     1.0  112.9   17.4       38.6\n",
       "11     1.0  214.7   24.0        4.0\n",
       "73     1.0  129.4    5.7       31.3\n",
       "15     1.0  195.4   47.7       52.9\n",
       "41     1.0  177.0   33.4       38.7\n",
       "97     1.0  184.9   21.0       22.0\n",
       "128    1.0  220.3   49.0        3.2\n",
       "133    1.0  219.8   33.5       45.1\n",
       "82     1.0   75.3   20.3       32.5\n",
       "139    1.0  184.9   43.9        1.7\n",
       "123    1.0  123.1   34.6       12.4\n",
       "83     1.0   68.4   44.5       35.6\n",
       "65     1.0   69.0    9.3        0.9\n",
       "151    1.0  121.0    8.4       48.7\n",
       "162    1.0  188.4   18.1       25.6\n",
       "170    1.0   50.0   11.6       18.4\n",
       "77     1.0  120.5   28.5       14.2\n",
       "32     1.0   97.2    1.5       30.0\n",
       "173    1.0  168.4    7.1       12.8\n",
       "174    1.0  222.4    3.4       13.1\n",
       "85     1.0  193.2   18.4       65.7\n",
       "168    1.0  215.4   23.6       57.6\n",
       "112    1.0  175.7   15.4        2.4\n",
       "171    1.0  164.5   20.9       47.4\n",
       "181    1.0  218.5    5.4       27.4\n",
       "7      1.0  120.2   19.6       11.6\n",
       "46     1.0   89.7    9.9       35.7\n",
       "75     1.0   16.9   43.7       89.4\n",
       "28     1.0  248.8   27.1       22.9\n",
       "29     1.0   70.6   16.0       40.8\n",
       "195    1.0   38.2    3.7       13.8\n",
       "40     1.0  202.5   22.3       31.6\n",
       "153    1.0  171.3   39.7       37.7\n",
       "115    1.0   75.1   35.0       52.7\n",
       "64     1.0  131.1   42.8       28.9\n",
       "59     1.0  210.7   29.5        9.3\n",
       "1      1.0   44.5   39.3       45.1\n",
       "192    1.0   17.2    4.1       31.6\n",
       "136    1.0   25.6   39.0        9.3\n",
       "152    1.0  197.6   23.3       14.2\n",
       "161    1.0   85.7   35.8       49.3"
      ]
     },
     "execution_count": 46,
     "metadata": {},
     "output_type": "execute_result"
    }
   ],
   "source": [
    "X_test_sm"
   ]
  },
  {
   "cell_type": "code",
   "execution_count": 47,
   "id": "223f3666-2b59-472a-a4d9-20a35b602216",
   "metadata": {},
   "outputs": [],
   "source": [
    "y_test_pred = lr.predict(X_test_sm)"
   ]
  },
  {
   "cell_type": "code",
   "execution_count": 48,
   "id": "d92e4519-ed8e-4e1e-828b-de3621b600a6",
   "metadata": {
    "scrolled": true
   },
   "outputs": [
    {
     "data": {
      "text/plain": [
       "126     9.352211\n",
       "104    20.963446\n",
       "99     16.488511\n",
       "92     20.109710\n",
       "111    21.671484\n",
       "167    16.160544\n",
       "116    13.561806\n",
       "96     15.393381\n",
       "52     20.819808\n",
       "69     21.005371\n",
       "164    12.294513\n",
       "124    20.708486\n",
       "182     8.173673\n",
       "154    16.824715\n",
       "125    10.489548\n",
       "196     9.995306\n",
       "194    16.346989\n",
       "177    14.575812\n",
       "163    17.230651\n",
       "31     12.568907\n",
       "11     18.557159\n",
       "73     12.124028\n",
       "15     20.433126\n",
       "41     17.780178\n",
       "97     16.736234\n",
       "128    21.603876\n",
       "133    20.135321\n",
       "82     10.825600\n",
       "139    19.127828\n",
       "123    14.845378\n",
       "83     13.135974\n",
       "65      9.077579\n",
       "151    12.078341\n",
       "162    16.628244\n",
       "170     8.417928\n",
       "77     14.045670\n",
       "32      9.920502\n",
       "173    14.261016\n",
       "174    16.762630\n",
       "85     17.171855\n",
       "168    18.887976\n",
       "112    15.501655\n",
       "171    15.786884\n",
       "181    16.862667\n",
       "7      13.034058\n",
       "46     10.476739\n",
       "75     10.614164\n",
       "28     20.852650\n",
       "29     10.151757\n",
       "195     6.884714\n",
       "40     17.887026\n",
       "153    18.160139\n",
       "115    12.559071\n",
       "64     16.281896\n",
       "59     18.980247\n",
       "1      11.337149\n",
       "192     5.910269\n",
       "136    10.061595\n",
       "152    17.623830\n",
       "161    13.196283\n",
       "dtype: float64"
      ]
     },
     "execution_count": 48,
     "metadata": {},
     "output_type": "execute_result"
    }
   ],
   "source": [
    "y_test_pred"
   ]
  },
  {
   "cell_type": "markdown",
   "id": "9548ad04-4342-4c9f-8b0d-316f7ae7a2cc",
   "metadata": {},
   "source": [
    "**Predicting the Accuracy**"
   ]
  },
  {
   "cell_type": "code",
   "execution_count": 50,
   "id": "3721f32c-8a6f-4f2a-9fa0-d5394d08ee1d",
   "metadata": {},
   "outputs": [
    {
     "data": {
      "text/plain": [
       "1.6235998775338947"
      ]
     },
     "execution_count": 50,
     "metadata": {},
     "output_type": "execute_result"
    }
   ],
   "source": [
    "np.sqrt(mean_squared_error(y_test,y_test_pred))"
   ]
  },
  {
   "cell_type": "code",
   "execution_count": 51,
   "id": "b06109b7-c299-4fd7-b1b7-cd84103a272b",
   "metadata": {},
   "outputs": [],
   "source": [
    "Accuracy=r2_score(y_test,y_test_pred)"
   ]
  },
  {
   "cell_type": "code",
   "execution_count": 52,
   "id": "e2edb70d-e6a7-4b8f-bed6-6da1663c518d",
   "metadata": {},
   "outputs": [],
   "source": [
    "Percentage=Accuracy*100"
   ]
  },
  {
   "cell_type": "code",
   "execution_count": 53,
   "id": "11731052-8ecf-456b-ba4f-bf77269880fe",
   "metadata": {},
   "outputs": [
    {
     "name": "stdout",
     "output_type": "stream",
     "text": [
      "The prediction is 86.55979373420266 % Accurate.\n"
     ]
    }
   ],
   "source": [
    "print(\"The prediction is\",Percentage,\"% Accurate.\")"
   ]
  },
  {
   "cell_type": "code",
   "execution_count": 54,
   "id": "ea49ecee-bbe6-4c6b-994f-ce80f7aba62a",
   "metadata": {},
   "outputs": [
    {
     "data": {
      "text/plain": [
       "Text(0.5, 0.98, 'Actual and Predicted Sales')"
      ]
     },
     "execution_count": 54,
     "metadata": {},
     "output_type": "execute_result"
    },
    {
     "data": {
      "image/png": "[encoded data removed]",
      "text/plain": [
       "<Figure size 640x480 with 1 Axes>"
      ]
     },
     "metadata": {},
     "output_type": "display_data"
    }
   ],
   "source": [
    "ax1 = sns.distplot(y_test, hist=False, color=\"r\", label=\"Actual Value\")\n",
    "sns.distplot(y_test_pred, hist=False, color=\"b\", label=\"Fitted Values\" , ax=ax1)\n",
    "plt.suptitle(\"Actual and Predicted Sales\")"
   ]
  },
  {
   "cell_type": "markdown",
   "id": "a09c09ef-674f-47e1-ad32-8e0c6e50848c",
   "metadata": {},
   "source": [
    "## Inferences"
   ]
  },
  {
   "cell_type": "markdown",
   "id": "9f037cba-f324-4e34-b121-f20ebbfb843f",
   "metadata": {},
   "source": [
    "**1. We took the data of TV, Radio and Newspaper to predict the value of Sales as per the accuracy of the machine learning model.**"
   ]
  },
  {
   "cell_type": "markdown",
   "id": "c59697a7-c735-456f-97d3-d34ef9644667",
   "metadata": {},
   "source": [
    "**2. The Correlation of TV,Radio and Newspaper wrt Sales.**"
   ]
  },
  {
   "cell_type": "code",
   "execution_count": 58,
   "id": "9c7a5923-a6c6-4332-9564-3c955371edb4",
   "metadata": {},
   "outputs": [
    {
     "data": {
      "image/png": "[encoded data removed]",
      "text/plain": [
       "<Figure size 750x250 with 3 Axes>"
      ]
     },
     "metadata": {},
     "output_type": "display_data"
    }
   ],
   "source": [
    "sns.pairplot(diag_kind=None, data= advertising, x_vars=[\"TV\",\"Radio\",\"Newspaper\"], y_vars=\"Sales\",aspect=1,kind='reg')\n",
    "plt.show()"
   ]
  },
  {
   "cell_type": "markdown",
   "id": "cd8b7ef0-0d02-4b57-a48a-276245b16208",
   "metadata": {},
   "source": [
    "As the value of Sales depends upon all the aspects, therefore we took all the data and tried to get the approximated linear Best Fit. "
   ]
  },
  {
   "cell_type": "markdown",
   "id": "f2d29259-e8c5-4450-bb77-3808c5433aba",
   "metadata": {},
   "source": [
    "**3. Training Accuracy.**"
   ]
  },
  {
   "cell_type": "markdown",
   "id": "b5fb3794-4bb4-4639-a7bf-07d0f1165e27",
   "metadata": {},
   "source": [
    "After applying the OLS regression method on the training data (original and predicted), we got an insight of R-squared and Adj.R-squared. <br>\n",
    "Here both the values are equivalent.<br>\n",
    "Thus, the accuracy of the training data is **91%**"
   ]
  },
  {
   "cell_type": "markdown",
   "id": "56f57685-5c78-441b-8879-18901716bb80",
   "metadata": {},
   "source": [
    "**4. Test Accuracy.**"
   ]
  },
  {
   "cell_type": "markdown",
   "id": "52a8b206-6391-4b30-93cf-3ef550c8b487",
   "metadata": {},
   "source": [
    "After applying the R square method on the test data (original and predicted).<br>\n",
    "we got the percentage of test accuracy as **86.55%**."
   ]
  },
  {
   "cell_type": "markdown",
   "id": "e390225d-73e0-4234-aa67-b6c7edd19d05",
   "metadata": {},
   "source": [
    "**5. Final Result.**"
   ]
  },
  {
   "cell_type": "markdown",
   "id": "518e7a12-d0cd-4d46-ba0b-b53d60e7e1ba",
   "metadata": {},
   "source": [
    "We have done approximately all the possible commands to make this machine learning model predict the value of Sales\n",
    " wrt the advertising of TV, Radio and Newspaper.\n",
    " And the predicted value of Sales could be 86.5% accurate.<br>\n",
    " *Note: Refer from Actual and Predicted Sales Graph*"
   ]
  },
  {
   "cell_type": "code",
   "execution_count": null,
   "id": "1d8f662d-97a3-422b-8188-029af92c396a",
   "metadata": {},
   "outputs": [],
   "source": []
  },
  {
   "cell_type": "code",
   "execution_count": null,
   "id": "f72c9b1b-7044-4cb7-a356-376007b579ec",
   "metadata": {},
   "outputs": [],
   "source": []
  }
 ],
 "metadata": {
  "kernelspec": {
   "display_name": "Python 3 (ipykernel)",
   "language": "python",
   "name": "python3"
  },
  "language_info": {
   "codemirror_mode": {
    "name": "ipython",
    "version": 3
   },
   "file_extension": ".py",
   "mimetype": "text/x-python",
   "name": "python",
   "nbconvert_exporter": "python",
   "pygments_lexer": "ipython3",
   "version": "3.11.7"
  }
 },
 "nbformat": 4,
 "nbformat_minor": 5
}
